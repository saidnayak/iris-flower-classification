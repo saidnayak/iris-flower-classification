{
 "cells": [
  {
   "cell_type": "code",
   "execution_count": null,
   "id": "23260474",
   "metadata": {
    "vscode": {
     "languageId": "plaintext"
    }
   },
   "outputs": [],
   "source": [
    "# Cell 1 - imports and load dataset\n",
    "import numpy as np\n",
    "import pandas as pd\n",
    "import matplotlib.pyplot as plt\n",
    "import seaborn as sns\n",
    "from sklearn.datasets import load_iris\n",
    "from sklearn.model_selection import train_test_split\n",
    "from sklearn.linear_model import LogisticRegression\n",
    "from sklearn.tree import DecisionTreeClassifier\n",
    "from sklearn.svm import SVC\n",
    "from sklearn.metrics import accuracy_score, confusion_matrix, classification_report\n",
    "import joblib\n",
    "\n",
    "iris = load_iris()\n",
    "X = pd.DataFrame(iris.data, columns=iris.feature_names)\n",
    "y = pd.Series(iris.target, name=\"species\")\n",
    "df = pd.concat([X, y], axis=1)\n",
    "df['species_name'] = df['species'].map({i:name for i,name in enumerate(iris.target_names)})\n",
    "df.head()"
   ]
  },
  {
   "cell_type": "code",
   "execution_count": null,
   "id": "e4b2b468",
   "metadata": {
    "vscode": {
     "languageId": "plaintext"
    }
   },
   "outputs": [],
   "source": [
    "# Cell 2 - EDA\n",
    "print(\"Shape:\", df.shape)\n",
    "display(df.describe())\n",
    "\n",
    "# Pairplot (may be slow in some environments; you can comment out if needed)\n",
    "sns.pairplot(df, hue=\"species_name\", diag_kind=\"hist\")\n",
    "plt.show()"
   ]
  },
  {
   "cell_type": "code",
   "execution_count": null,
   "id": "9411d149",
   "metadata": {
    "vscode": {
     "languageId": "plaintext"
    }
   },
   "outputs": [],
   "source": [
    "# Cell 3 - train/test split\n",
    "X_vals = iris.data\n",
    "y_vals = iris.target\n",
    "X_train, X_test, y_train, y_test = train_test_split(X_vals, y_vals, test_size=0.2, random_state=42, stratify=y_vals)\n",
    "print(\"Train:\", X_train.shape, \"Test:\", X_test.shape)"
   ]
  },
  {
   "cell_type": "code",
   "execution_count": null,
   "id": "c1ba588c",
   "metadata": {
    "vscode": {
     "languageId": "plaintext"
    }
   },
   "outputs": [],
   "source": [
    "# Cell 4 - train & evaluate\n",
    "models = {\n",
    "    \"Logistic Regression\": LogisticRegression(max_iter=200),\n",
    "    \"Decision Tree\": DecisionTreeClassifier(random_state=42),\n",
    "    \"SVM\": SVC(probability=False)  # set probability=True if you need predict_proba\n",
    "}\n",
    "\n",
    "results = {}\n",
    "for name, model in models.items():\n",
    "    model.fit(X_train, y_train)\n",
    "    y_pred = model.predict(X_test)\n",
    "    acc = accuracy_score(y_test, y_pred)\n",
    "    results[name] = {\"accuracy\": acc, \"model\": model, \"y_pred\": y_pred}\n",
    "    print(f\"=== {name} ===\")\n",
    "    print(\"Accuracy:\", acc)\n",
    "    print(\"Confusion matrix:\\n\", confusion_matrix(y_test, y_pred))\n",
    "    print(classification_report(y_test, y_pred, target_names=iris.target_names))\n",
    "    print()"
   ]
  },
  {
   "cell_type": "code",
   "execution_count": null,
   "id": "b34d101e",
   "metadata": {
    "vscode": {
     "languageId": "plaintext"
    }
   },
   "outputs": [],
   "source": [
    "# Cell 5 - comparison & save best\n",
    "# Bar plot of accuracies\n",
    "names = list(results.keys())\n",
    "accs = [results[n][\"accuracy\"] for n in names]\n",
    "plt.figure(figsize=(6,4))\n",
    "plt.bar(names, accs)\n",
    "plt.ylabel(\"Accuracy\")\n",
    "plt.ylim(0,1)\n",
    "plt.title(\"Model comparison\")\n",
    "plt.show()\n",
    "\n",
    "# pick best\n",
    "best_name = max(results, key=lambda n: results[n][\"accuracy\"])\n",
    "best_model = results[best_name][\"model\"]\n",
    "print(\"Best model:\", best_name, \"with accuracy\", results[best_name][\"accuracy\"])\n",
    "\n",
    "# save model\n",
    "import os\n",
    "os.makedirs(\"models\", exist_ok=True)\n",
    "joblib.dump(best_model, \"models/iris_model.joblib\")\n",
    "print(\"Saved best model to models/iris_model.joblib\")"
   ]
  }
 ],
 "metadata": {
  "language_info": {
   "name": "python"
  }
 },
 "nbformat": 4,
 "nbformat_minor": 5
}
